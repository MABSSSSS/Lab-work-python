{
 "cells": [
  {
   "cell_type": "code",
   "execution_count": 4,
   "metadata": {},
   "outputs": [
    {
     "name": "stdout",
     "output_type": "stream",
     "text": [
      "Age of cricketers 40\n",
      "Features of athlete 37\n"
     ]
    }
   ],
   "source": [
    "items=[\"Cricket\",\"Football\",\"Basketball\",\"Gym\",\"Athletism\"]\n",
    "\n",
    "items_data={\n",
    "    \"Cricket\":{\"Max_Age\":\"40\",\"Players\":\"11\",\"Formats\":\"T20,ODI,TEST\"},\n",
    "    \"Football\":{\"Max_Age\":\"33\",\"Players\":\"13\",\"Formats\":\"2 half\",\"Famous_Player\":\"CR7\"},\n",
    "    \"Basketball\":{\"Max_Age\":\"31\",\"Players\":\"7\",\"Formats\":\"2 half\",\"Famous_Player\":\"Jordan\"},\n",
    "    \"Gym\":{\"Max_Age\":\"No_limit\",\"Players\":\"1\",\"Formats\":\"Alot\",\"Famous_Player\":\"Arnold\"},\n",
    "    \"Athletism\":{\"Max_Age\":\"37\",\"Players\":\"1\",\"Formats\":\" \",\"Famous_Player\":\"MABS\"}\n",
    "}\n",
    "print(\"Age of cricketers\",items_data[\"Cricket\"][\"Max_Age\"])\n",
    "print(\"Features of athlete\",items_data[\"Athletism\"][\"Max_Age\"])"
   ]
  },
  {
   "cell_type": "code",
   "execution_count": null,
   "metadata": {},
   "outputs": [],
   "source": [
    "def detect_item(data):\n",
    "    Max_Age = data.get(\"Maximum Age\")\n",
    "    Players = data.get(\"Age of Player\")\n",
    "    Famous_Player = data.get(\"Famous player of Game\")\n",
    "\n",
    "    if Max_Age == \"40\" and Players == \"11\":\n",
    "        return \"Detected: Cricket\"\n",
    "    elif Max_Age == \"33\" and Players == \"13\":\n",
    "        return \"Detected: Football\"\n",
    "    elif Max_Age == \"31\" and Famous_Player == \"Jordan\":\n",
    "        return \"Detected: Basketball\"\n",
    "    elif Max_Age == \"No_limit\" and Famous_Player == \"Arnold\":\n",
    "        return \"Detected: Gym\"\n",
    "    elif Max_Age == \"37\" and Famous_Player == \"MABS\" and Players == \"1\":\n",
    "        return \"Detected: Athletism\"\n",
    "    elif Max_Age and Players and Famous_Player:\n",
    "        return \"Detected: Unknown Object\"\n",
    "    else:\n",
    "        return \"Invalid or Incomplete Features\"\n",
    "\n",
    "# Example usage:\n",
    "conditions1 = {\"Max_Age\": \"40\", \"Players\": \"11\"}\n",
    "result1 = detect_item(conditions1)\n",
    "print(result1)\n",
    "\n",
    "conditions2 = {\"Max_Age\": \"33\", \"Players\": \"13\", \"Famous_Player\": \"Ronaldo\"}\n",
    "result2 = detect_item(conditions2)\n",
    "print(result2)\n",
    "\n",
    "conditions3 = {\"Max_Age\": \"31\", \"Famous_Player\": \"Jordan\"}\n",
    "result3 = detect_item(conditions3)\n",
    "print(result3)\n",
    "\n",
    "conditions4 = {\"Max_Age\": \"37\", \"Players\": \"1\", \"Famous_Player\": \"MABS\"}\n",
    "result4 = detect_item(conditions4)\n",
    "print(result4)"
   ]
  },
  {
   "cell_type": "code",
   "execution_count": null,
   "metadata": {},
   "outputs": [],
   "source": [
    "objects = [\"apple\", \"banana\", \"cat\", \"dog\", \"laptop\", \"phone\"]\n",
    "\n",
    "# Step 1b: Identify Features\n",
    "# Updated object_features with feature values\n",
    "object_features = {\n",
    "    \"apple\": {\"color\": \"red\", \"shape\": \"round\", \"size\": \"medium\"},\n",
    "    \"banana\": {\"color\": \"yellow\", \"shape\": \"curved\", \"size\": \"medium\"},\n",
    "    \"cat\": {\"color\": \"brown\", \"size\": \"small\", \"tail_length\": \"short\"},\n",
    "    \"dog\": {\"color\": \"black\", \"size\": \"large\", \"tail_length\": \"long\"},\n",
    "    \"laptop\": {\"brand\": \"Dell\", \"screen_size\": \"15 inches\", \"weight\": \"3.5 lbs\"},\n",
    "    \"phone\": {\"brand\": \"iPhone\", \"screen_size\": \"6 inches\", \"weight\": \"0.5 lbs\"}\n",
    "}\n",
    "\n",
    "# Example usage to access feature values\n",
    "print(\"Color of the apple:\", object_features[\"apple\"][\"color\"])\n",
    "print(\"Brand of the laptop:\", object_features[\"laptop\"][\"brand\"])"
   ]
  }
 ],
 "metadata": {
  "kernelspec": {
   "display_name": "Python 3",
   "language": "python",
   "name": "python3"
  },
  "language_info": {
   "codemirror_mode": {
    "name": "ipython",
    "version": 3
   },
   "file_extension": ".py",
   "mimetype": "text/x-python",
   "name": "python",
   "nbconvert_exporter": "python",
   "pygments_lexer": "ipython3",
   "version": "3.11.7"
  }
 },
 "nbformat": 4,
 "nbformat_minor": 2
}
