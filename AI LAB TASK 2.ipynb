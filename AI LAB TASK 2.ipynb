{
 "cells": [
  {
   "cell_type": "markdown",
   "metadata": {},
   "source": [
    "Lab 2 and 3:\n",
    "\n",
    "\n",
    "Programming For Artificial Intelligence:\n"
   ]
  },
  {
   "cell_type": "markdown",
   "metadata": {},
   "source": [
    "TOPICS:\n",
    "\n",
    "DATATYPES AND TYPE CONVERSION"
   ]
  },
  {
   "cell_type": "markdown",
   "metadata": {},
   "source": [
    "TASK:1.\n",
    "\n",
    "\tPrint at least 5 types of data type"
   ]
  },
  {
   "cell_type": "code",
   "execution_count": 1,
   "metadata": {},
   "outputs": [
    {
     "name": "stdout",
     "output_type": "stream",
     "text": [
      "First set of values:\n",
      "Integer Variable: 10 , Type: <class 'int'>\n",
      "Float Variable: 3.14 , Type: <class 'float'>\n",
      "String Variable: Hello , Type: <class 'str'>\n",
      "\n",
      "Second set of values:\n",
      "Integer Variable: 20 , Type: <class 'int'>\n",
      "Float Variable: 6.28 , Type: <class 'float'>\n",
      "String Variable: World , Type: <class 'str'>\n",
      "\n",
      "Third set of values:\n",
      "Integer Variable 1: 10 , Type: <class 'int'>\n",
      "Float Variable 1: 3.14 , Type: <class 'float'>\n",
      "String Variable 1: Hello , Type: <class 'str'>\n",
      "\n",
      "Fourth set of values:\n",
      "Integer Variable 2: 20 , Type: <class 'int'>\n",
      "Float Variable 2: 6.28 , Type: <class 'float'>\n",
      "String Variable 2: World , Type: <class 'str'>\n",
      "\n",
      "Fifth set of values:\n",
      "Integer Variable 3: 30 , Type: <class 'int'>\n",
      "Float Variable 3: 9.99 , Type: <class 'float'>\n",
      "String Variable 3: Python , Type: <class 'str'>\n"
     ]
    }
   ],
   "source": [
    "# First set of values\n",
    "int_var = 10\n",
    "float_var = 3.14\n",
    "str_var = \"Hello\"\n",
    "\n",
    "# Print first set of values and their types\n",
    "print(\"First set of values:\")\n",
    "print(\"Integer Variable:\", int_var, \", Type:\", type(int_var))\n",
    "print(\"Float Variable:\", float_var, \", Type:\", type(float_var))\n",
    "print(\"String Variable:\", str_var, \", Type:\", type(str_var))\n",
    "\n",
    "# Second set of values\n",
    "int_var = 20\n",
    "float_var = 6.28\n",
    "str_var = \"World\"\n",
    "\n",
    "# Print second set of values and their types\n",
    "print(\"\\nSecond set of values:\")\n",
    "print(\"Integer Variable:\", int_var, \", Type:\", type(int_var))\n",
    "print(\"Float Variable:\", float_var, \", Type:\", type(float_var))\n",
    "print(\"String Variable:\", str_var, \", Type:\", type(str_var))\n",
    "# Third set of values\n",
    "int_var3 = 10\n",
    "float_var3 = 3.14\n",
    "str_var3 = \"Hello\"\n",
    "\n",
    "# Print Third set of values and their types\n",
    "print(\"\\nThird set of values:\")\n",
    "print(\"Integer Variable 1:\", int_var3, \", Type:\", type(int_var3))\n",
    "print(\"Float Variable 1:\", float_var3, \", Type:\", type(float_var3))\n",
    "print(\"String Variable 1:\", str_var3, \", Type:\", type(str_var3))\n",
    "\n",
    "# fourth set of values\n",
    "int_var4 = 20\n",
    "float_var4 = 6.28\n",
    "str_var4 = \"World\"\n",
    "\n",
    "# Print fourth set of values and their types\n",
    "print(\"\\nFourth set of values:\")\n",
    "print(\"Integer Variable 2:\", int_var4, \", Type:\", type(int_var4))\n",
    "print(\"Float Variable 2:\", float_var4, \", Type:\", type(float_var4))\n",
    "print(\"String Variable 2:\", str_var4, \", Type:\", type(str_var4))\n",
    "\n",
    "# Fifth set of values\n",
    "int_var5 = 30\n",
    "float_var5 = 9.99\n",
    "str_var5 = \"Python\"\n",
    "\n",
    "# Print fifth set of values and their types\n",
    "print(\"\\nFifth set of values:\")\n",
    "print(\"Integer Variable 3:\", int_var5, \", Type:\", type(int_var5))\n",
    "print(\"Float Variable 3:\", float_var5, \", Type:\", type(float_var5))\n",
    "print(\"String Variable 3:\", str_var5, \", Type:\", type(str_var5))\n"
   ]
  },
  {
   "cell_type": "markdown",
   "metadata": {},
   "source": [
    "Code 1 Explanation:\n",
    "This program defines three sets of variables (each consisting of an integer, a float, and a string), assigns values to them, and then prints each variable's value along with its type."
   ]
  },
  {
   "cell_type": "markdown",
   "metadata": {},
   "source": [
    "TASK:2\n",
    "\n",
    "\n",
    "2.\tWrite example of type conversion for each ( minimum 3)"
   ]
  },
  {
   "cell_type": "code",
   "execution_count": 2,
   "metadata": {},
   "outputs": [
    {
     "name": "stdout",
     "output_type": "stream",
     "text": [
      "Integer Variable (Original): 10\n",
      "Integer to Float Conversion: 10.0\n",
      "Float to Complex Conversion: (10+0j)\n",
      "\n",
      "Float Variable (Original): 3.14\n",
      "Float to Integer Conversion: 3\n",
      "Integer to Complex Conversion: (3+0j)\n",
      "\n",
      "Complex Variable (Original): (2+3j)\n",
      "Real Part to Integer Conversion: 2\n",
      "Integer to Float Conversion: 2.0\n"
     ]
    }
   ],
   "source": [
    "# Example of type conversion for int variable\n",
    "int_var = 10\n",
    "print(\"Integer Variable (Original):\", int_var)\n",
    "int_var = float(int_var)\n",
    "print(\"Integer to Float Conversion:\", int_var)\n",
    "int_var = complex(int_var)\n",
    "print(\"Float to Complex Conversion:\", int_var)\n",
    "\n",
    "# Example of type conversion for float variable\n",
    "float_var = 3.14\n",
    "print(\"\\nFloat Variable (Original):\", float_var)\n",
    "float_var = int(float_var)\n",
    "print(\"Float to Integer Conversion:\", float_var)\n",
    "float_var = complex(float_var)\n",
    "print(\"Integer to Complex Conversion:\", float_var)\n",
    "\n",
    "# Example of type conversion for complex variable\n",
    "complex_var = 2 + 3j\n",
    "print(\"\\nComplex Variable (Original):\", complex_var)\n",
    "complex_var = int(complex_var.real)\n",
    "print(\"Real Part to Integer Conversion:\", complex_var)\n",
    "complex_var = float(complex_var)\n",
    "print(\"Integer to Float Conversion:\", complex_var)\n"
   ]
  },
  {
   "cell_type": "markdown",
   "metadata": {},
   "source": [
    "Code 2 Explanation:\n",
    "For the integer variable, we convert it to float and then to complex.\n",
    "For the float variable, we convert it to an integer and then to complex.\n",
    "For the complex variable, we extract the real part as an integer, convert it back to a float, and then to an integer"
   ]
  },
  {
   "cell_type": "markdown",
   "metadata": {},
   "source": [
    "Task:3 \n",
    "3.\tAssign multiple strings to single variable with your name , registration number, program , semester etc"
   ]
  },
  {
   "cell_type": "code",
   "execution_count": 3,
   "metadata": {},
   "outputs": [
    {
     "name": "stdout",
     "output_type": "stream",
     "text": [
      "\n",
      "Name: Muhammad Abdullah, \n",
      "Registration Number: B22F0577AI054,\n",
      "Program: AI, \n",
      "Semester: 4th\n",
      "\n"
     ]
    }
   ],
   "source": [
    "# Assigning multiple strings to a single variable\n",
    "student_info = '''\n",
    "Name: Muhammad Abdullah, \n",
    "Registration Number: B22F0577AI054,\n",
    "Program: AI, \n",
    "Semester: 4th\n",
    "'''\n",
    "\n",
    "# Print the variable value\n",
    "print(student_info)\n"
   ]
  },
  {
   "cell_type": "markdown",
   "metadata": {},
   "source": [
    "Task:3 Explanation\n",
    "We define a variable student_info and assign it a string containing your name, registration number, program, and semester.\n",
    "\n",
    "Then, we print the value of the student_info variable"
   ]
  },
  {
   "cell_type": "markdown",
   "metadata": {},
   "source": [
    "Task:4\n",
    "4.\tWrite Your country name and access the last 3 characters"
   ]
  },
  {
   "cell_type": "code",
   "execution_count": 4,
   "metadata": {},
   "outputs": [
    {
     "name": "stdout",
     "output_type": "stream",
     "text": [
      "Last 3 characters of the country name is: TAN\n"
     ]
    }
   ],
   "source": [
    "# Define the country name\n",
    "country_name = \"ISLAMIC REPUBLIC OF PAKISTAN\"\n",
    "\n",
    "# Access the last 3 characters\n",
    "last3 = country_name[-3:]\n",
    "\n",
    "# Print the last 3 characters\n",
    "print(\"Last 3 characters of the country name is:\", last3)\n"
   ]
  },
  {
   "cell_type": "markdown",
   "metadata": {},
   "source": [
    "Task: 4 Explanation\n",
    "In this program, we use slicing to access the last 3 characters of the string country_name. \n",
    "We use [-3:] to specify that we want to start from the third character from the end (inclusive) and go till the end of the string"
   ]
  },
  {
   "cell_type": "markdown",
   "metadata": {},
   "source": [
    "Task 5:\n",
    "5.\tWrite code and observe using len() function it count space or not"
   ]
  },
  {
   "cell_type": "code",
   "execution_count": 5,
   "metadata": {},
   "outputs": [
    {
     "name": "stdout",
     "output_type": "stream",
     "text": [
      "Length of the string: 19\n"
     ]
    }
   ],
   "source": [
    "# Define a string with spaces\n",
    "a = \" MUHAMMAD ABDULLAH \"\n",
    "\n",
    "# Print the length of the string\n",
    "print(\"Length of the string:\", len(a))\n"
   ]
  },
  {
   "cell_type": "markdown",
   "metadata": {},
   "source": [
    "TASK:5 EXPLANATION\n",
    "\n",
    "This demonstrates that the len() function counts spaces as characters in a string.\n",
    " In this case, the string a contains space character, and len(a) returns 19 it is also counting space."
   ]
  },
  {
   "cell_type": "markdown",
   "metadata": {},
   "source": [
    "TASK:6\n",
    "\n",
    "This demonstrates that the len() function counts spaces as characters in a string. In this case, the string a contains only one space character, and len(a) returns 1."
   ]
  },
  {
   "cell_type": "code",
   "execution_count": 6,
   "metadata": {},
   "outputs": [
    {
     "name": "stdout",
     "output_type": "stream",
     "text": [
      "2nd character of the name: A\n",
      "3rd character of the name: M\n"
     ]
    }
   ],
   "source": [
    "# Define the name\n",
    "name = \"MUHAMMAD ABDULLAH\"\n",
    "\n",
    "# Access the 2nd and 3rd characters using negative indexes\n",
    "second = name[-14]\n",
    "third = name[-13]\n",
    "\n",
    "# Print the 2nd and 3rd characters\n",
    "print(\"2nd character of the name:\", second)\n",
    "print(\"3rd character of the name:\", third)\n"
   ]
  },
  {
   "cell_type": "markdown",
   "metadata": {},
   "source": [
    "TASK 6 EXPLANATION:\n",
    "\n",
    "In this code, we use negative indexes to access characters from the end of the string. -14 corresponds to the 2nd character from the end, and -13 corresponds to the 3rd character from the end."
   ]
  },
  {
   "cell_type": "markdown",
   "metadata": {},
   "source": [
    "TASK:7\n",
    "\n",
    "7.\tWrite python code in which you pass index number to format() function and arguments must be 4 and same code without indexes."
   ]
  },
  {
   "cell_type": "code",
   "execution_count": 7,
   "metadata": {},
   "outputs": [
    {
     "name": "stdout",
     "output_type": "stream",
     "text": [
      "Formatted with index numbers: 4 3 2 1\n",
      "Formatted without index numbers: 1 2 3 4\n"
     ]
    }
   ],
   "source": [
    "# Using format() function with index numbers\n",
    "format_index = \"{3} {2} {1} {0}\".format(1, 2, 3, 4)\n",
    "print(\"Formatted with index numbers:\", format_index)\n",
    "\n",
    "# Without using index numbers\n",
    "format = \"{} {} {} {}\".format(1, 2, 3, 4)\n",
    "print(\"Formatted without index numbers:\", format)\n"
   ]
  },
  {
   "cell_type": "markdown",
   "metadata": {},
   "source": [
    "TASK:7 EXPLANATION\n",
    "\n",
    "The first line uses the format() function with index numbers {0}, {1}, {2}, and {3} to specify the positions of the arguments.\n",
    "The second line uses the format() function without index numbers. \n",
    "In this case, the arguments are automatically assigned positions based on their order in the format() function."
   ]
  },
  {
   "cell_type": "markdown",
   "metadata": {},
   "source": [
    "TASK:8 \n",
    "\n",
    "8.\tTake input from user and  than display it like “John age is: age”"
   ]
  },
  {
   "cell_type": "code",
   "execution_count": 8,
   "metadata": {},
   "outputs": [],
   "source": [
    "# Take input from the user\n",
    "name = input(\"Enter your name: \")\n",
    "age = input(\"Enter your age: \")\n",
    "\n",
    "# Display the input in the specified format using string concatenation\n",
    "print(name + \" age is: \" + age)\n"
   ]
  },
  {
   "cell_type": "markdown",
   "metadata": {},
   "source": [
    "TASK:8 EXPLANATION\n",
    "\n",
    "we use string concatenation to combine the user's name, the string \" age is: \", and the user's age into a single string, which is then printed to the console."
   ]
  },
  {
   "cell_type": "markdown",
   "metadata": {},
   "source": []
  }
 ],
 "metadata": {
  "kernelspec": {
   "display_name": "Python 3",
   "language": "python",
   "name": "python3"
  },
  "language_info": {
   "codemirror_mode": {
    "name": "ipython",
    "version": 3
   },
   "file_extension": ".py",
   "mimetype": "text/x-python",
   "name": "python",
   "nbconvert_exporter": "python",
   "pygments_lexer": "ipython3",
   "version": "3.12.0"
  }
 },
 "nbformat": 4,
 "nbformat_minor": 2
}
