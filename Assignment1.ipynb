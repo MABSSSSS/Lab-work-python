{
 "cells": [
  {
   "cell_type": "code",
   "execution_count": 1,
   "metadata": {},
   "outputs": [
    {
     "ename": "ModuleNotFoundError",
     "evalue": "No module named 'urduhack'",
     "output_type": "error",
     "traceback": [
      "\u001b[1;31m---------------------------------------------------------------------------\u001b[0m",
      "\u001b[1;31mModuleNotFoundError\u001b[0m                       Traceback (most recent call last)",
      "Cell \u001b[1;32mIn[1], line 2\u001b[0m\n\u001b[0;32m      1\u001b[0m \u001b[38;5;66;03m# Take input from the user\u001b[39;00m\n\u001b[1;32m----> 2\u001b[0m \u001b[38;5;28;01mimport\u001b[39;00m \u001b[38;5;21;01murduhack\u001b[39;00m \u001b[38;5;28;01mas\u001b[39;00m \u001b[38;5;21;01muk\u001b[39;00m\n\u001b[0;32m      3\u001b[0m input_string \u001b[38;5;241m=\u001b[39m \u001b[38;5;28minput\u001b[39m(\u001b[38;5;124m\"\u001b[39m\u001b[38;5;124mEnter a sentence: \u001b[39m\u001b[38;5;124m\"\u001b[39m)\n\u001b[0;32m      5\u001b[0m \u001b[38;5;66;03m# Split the input sentence into words\u001b[39;00m\n",
      "\u001b[1;31mModuleNotFoundError\u001b[0m: No module named 'urduhack'"
     ]
    }
   ],
   "source": [
    "# Take input from the user\n",
    "\n",
    "input_string = input(\"Enter a sentence: \")\n",
    "\n",
    "# Split the input sentence into words\n",
    "words = input_string.split()\n",
    "\n",
    "# Calculate the number of words in the sentence\n",
    "words_num = len(words)\n",
    "\n",
    "# Calculate the length of the entire string\n",
    "string_length = len(input_string)\n",
    "\n",
    "# Initialize variables for shortest string and its length\n",
    "shortest_string = None\n",
    "shortest_length = float('inf')\n",
    "\n",
    "# Iterate through each word in the sentence\n",
    "for word in words:\n",
    "    # Update the shortest string if the current word is shorter\n",
    "    if len(word) < shortest_length:\n",
    "        shortest_string = word\n",
    "        shortest_length = len(word)\n",
    "\n",
    "# Find all shortest words of the same length\n",
    "shortest_words = [word for word in words if len(word) == shortest_length]\n",
    "\n",
    "# Print the results\n",
    "print(\"Number of words in the sentence:\", words_num)\n",
    "print(\"Length of the entire string:\", string_length)\n",
    "print(\"Length of the shortest string:\", shortest_length)\n",
    "print(\"All shortest words of length\",shortest_words, \":\", shortest_length)"
   ]
  }
 ],
 "metadata": {
  "kernelspec": {
   "display_name": "Python 3",
   "language": "python",
   "name": "python3"
  },
  "language_info": {
   "codemirror_mode": {
    "name": "ipython",
    "version": 3
   },
   "file_extension": ".py",
   "mimetype": "text/x-python",
   "name": "python",
   "nbconvert_exporter": "python",
   "pygments_lexer": "ipython3",
   "version": "3.12.0"
  }
 },
 "nbformat": 4,
 "nbformat_minor": 2
}
