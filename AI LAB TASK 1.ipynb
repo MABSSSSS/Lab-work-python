{
 "cells": [
  {
   "cell_type": "code",
   "execution_count": 2,
   "metadata": {},
   "outputs": [
    {
     "name": "stdout",
     "output_type": "stream",
     "text": [
      "y and z are not equal\n"
     ]
    }
   ],
   "source": [
    "# Assignment operator (=)\n",
    "x = 55   # Assigning the value 5 to the variable x\n",
    "\n",
    "# Equality operator (==)\n",
    "y = 10\n",
    "z = 52\n",
    "\n",
    "# Check if y is equal to z\n",
    "if y == z:\n",
    "    print(\"y and z are equal\")\n",
    "else:\n",
    "    print(\"y and z are not equal\")\n"
   ]
  },
  {
   "cell_type": "code",
   "execution_count": 4,
   "metadata": {},
   "outputs": [
    {
     "name": "stdout",
     "output_type": "stream",
     "text": [
      "Integer Variable: 11 Type: <class 'int'>\n",
      "Floating-point Variable: 7.14 Type: <class 'float'>\n",
      "String Variable: Hello, World! Type: <class 'str'>\n",
      "Boolean Variable: True Type: <class 'bool'>\n"
     ]
    }
   ],
   "source": [
    "# Integer variable\n",
    "int = 11\n",
    "\n",
    "# Floating-point variable\n",
    "float = 7.14\n",
    "\n",
    "# String variable\n",
    "string = \"Hello, World!\"\n",
    "\n",
    "# Boolean variable\n",
    "boolean = True\n",
    "\n",
    "# Printing the variables to verify their types\n",
    "print(\"Integer Variable:\", int, \"Type:\", type(int))\n",
    "print(\"Floating-point Variable:\", float, \"Type:\", type(float))\n",
    "print(\"String Variable:\", string, \"Type:\", type(string))\n",
    "print(\"Boolean Variable:\", boolean, \"Type:\", type(boolean))\n"
   ]
  },
  {
   "cell_type": "code",
   "execution_count": 8,
   "metadata": {},
   "outputs": [
    {
     "name": "stdout",
     "output_type": "stream",
     "text": [
      "my_variable: 10\n",
      "myVariable: 20\n",
      "my_variable2: 30\n",
      "_my_variable: 40\n",
      "MY_VARIABLE: 50\n",
      "my_variable: 60\n",
      "my variable: 70\n",
      "my_variable3: 80\n",
      "variable123: 90\n",
      "_variable_: 100\n"
     ]
    }
   ],
   "source": [
    "# Valid variable names\n",
    "my_variable = 10\n",
    "myVariable = 20\n",
    "my_variable2 = 30\n",
    "_my_variable = 40\n",
    "MY_VARIABLE = 50\n",
    "\n",
    "# Variable names with special characters and numbers\n",
    "my_variablee = 60\n",
    "my_variable1 = 70\n",
    "my_variable3 = 80\n",
    "variable123 = 90\n",
    "_variable_ = 100\n",
    "\n",
    "# Printing the values of variables\n",
    "print(\"my_variable:\", my_variable)\n",
    "print(\"myVariable:\", myVariable)\n",
    "print(\"my_variable2:\", my_variable2)\n",
    "print(\"_my_variable:\", _my_variable)\n",
    "print(\"MY_VARIABLE:\", MY_VARIABLE)\n",
    "\n",
    "print(\"my_variable:\", my_variablee)\n",
    "print(\"my variable:\", my_variable1)\n",
    "print(\"my_variable3:\", my_variable3)\n",
    "print(\"variable123:\", variable123)\n",
    "print(\"_variable_:\", _variable_)\n"
   ]
  },
  {
   "cell_type": "code",
   "execution_count": 12,
   "metadata": {},
   "outputs": [
    {
     "name": "stdout",
     "output_type": "stream",
     "text": [
      "Assigning variable with multiple values:\n",
      "x: 10 y: 20 z: 30\n",
      "name1: Ali name2: Bobby name3: PAF\n",
      "\n",
      "Multiple variables with single values:\n",
      "a: 5 b: 5 c: 5\n",
      "age: 25 height: 180 weight: 75\n"
     ]
    }
   ],
   "source": [
    "#  variable with multiple values\n",
    "x, y, z = 10, 20, 30\n",
    "name1, name2, name3 = \"Ali\", \"Bobby\", \"PAF\"\n",
    "\n",
    "# Multiple variables with single values\n",
    "a = b = c = 5\n",
    "age, height, weight = 25, 180, 75\n",
    "\n",
    "# Printing variables \n",
    "print(\"Assigning variable with multiple values:\")\n",
    "print(\"x:\", x, \"y:\", y, \"z:\", z)\n",
    "print(\"name1:\", name1, \"name2:\", name2, \"name3:\", name3)\n",
    "\n",
    "print(\"\\nMultiple variables with single values:\")\n",
    "print(\"a:\", a, \"b:\", b, \"c:\", c)\n",
    "print(\"age:\", age, \"height:\", height, \"weight:\", weight)\n"
   ]
  },
  {
   "cell_type": "code",
   "execution_count": 13,
   "metadata": {},
   "outputs": [
    {
     "name": "stdout",
     "output_type": "stream",
     "text": [
      "Arithmetic operations on integers:\n",
      "Addition: 15\n",
      "Subtraction: 5\n",
      "Multiplication: 50\n",
      "Division: 1.75\n",
      "Division: 2.0\n",
      "\n",
      "Arithmetic operations on floating-point numbers:\n",
      "Addition: 5.5\n",
      "Subtraction: 1.5\n",
      "Multiplication: 7.0\n"
     ]
    }
   ],
   "source": [
    "# Integers\n",
    "a = 10\n",
    "b = 5\n",
    "\n",
    "# Floating-point numbers\n",
    "x = 3.5\n",
    "y = 2.0\n",
    "\n",
    "# Arithmetic operations on integers\n",
    "add = a + b\n",
    "subt = a - b\n",
    "multipl = a * b\n",
    "divi = a / b\n",
    "\n",
    "# Arithmetic operations on floating-point numbers\n",
    "add_float = x + y\n",
    "subt_float = x - y\n",
    "multip_float = x * y\n",
    "div_float = x / y\n",
    "\n",
    "# Printing results\n",
    "print(\"Arithmetic operations on integers:\")\n",
    "print(\"Addition:\", add)\n",
    "print(\"Subtraction:\", subt)\n",
    "print(\"Multiplication:\", multipl)\n",
    "print(\"Division:\", div_float)\n",
    "print(\"Division:\", divi)\n",
    "\n",
    "print(\"\\nArithmetic operations on floating-point numbers:\")\n",
    "print(\"Addition:\", add_float)\n",
    "print(\"Subtraction:\", subt_float)\n",
    "print(\"Multiplication:\", multip_float)\n"
   ]
  },
  {
   "cell_type": "code",
   "execution_count": 14,
   "metadata": {},
   "outputs": [
    {
     "name": "stdout",
     "output_type": "stream",
     "text": [
      "Hello, world!\n",
      "Hello, world!\n",
      "She said, 'Hello!'\n",
      "He replied, \"Hi!\"\n"
     ]
    }
   ],
   "source": [
    "# Using single quotes\n",
    "single_string = 'Hello, world!'\n",
    "\n",
    "# Using double quotes\n",
    "double_string = \"Hello, world!\"\n",
    "\n",
    "# Using double quotes when the string contains a single quote\n",
    "double_quotes_single_quote = \"She said, 'Hello!'\"\n",
    "\n",
    "# Using single quotes when the string contains double quotes\n",
    "single_quotes_double_quotes = 'He replied, \"Hi!\"'\n",
    "\n",
    "# Printing the strings\n",
    "print(single_string)\n",
    "print(double_string)\n",
    "print(double_quotes_single_quote)\n",
    "print(single_quotes_double_quotes)\n"
   ]
  },
  {
   "cell_type": "code",
   "execution_count": 16,
   "metadata": {},
   "outputs": [
    {
     "name": "stdout",
     "output_type": "stream",
     "text": [
      "Ali\n",
      "Name: Ali Age: 22 City: New York\n",
      "Name: Ali, Age: 22, City: New York\n",
      "The result multiplied is: 77\n"
     ]
    }
   ],
   "source": [
    "# Example of using the print() function to output a variable\n",
    "name = \"Ali\"\n",
    "print(name)\n",
    "\n",
    "# Example of outputting multiple variables with print()\n",
    "age = 22\n",
    "city = \"New York\"\n",
    "print(\"Name:\", name, \"Age:\", age, \"City:\", city)\n",
    "\n",
    "# Example of using f-strings to format output\n",
    "print(f\"Name: {name}, Age: {age}, City: {city}\")\n",
    "\n",
    "# Example of using f-strings to manipulate variables in output\n",
    "result = 11\n",
    "print(f\"The result multiplied is: {result * 7}\")\n"
   ]
  }
 ],
 "metadata": {
  "kernelspec": {
   "display_name": "Python 3",
   "language": "python",
   "name": "python3"
  },
  "language_info": {
   "codemirror_mode": {
    "name": "ipython",
    "version": 3
   },
   "file_extension": ".py",
   "mimetype": "text/x-python",
   "name": "python",
   "nbconvert_exporter": "python",
   "pygments_lexer": "ipython3",
   "version": "3.12.0"
  }
 },
 "nbformat": 4,
 "nbformat_minor": 2
}
