{
 "cells": [
  {
   "cell_type": "markdown",
   "metadata": {},
   "source": [
    "1.\tAccess List Items:\n",
    "•\tCreate a list of fruits.\n",
    "•\tPrint the first and last items of the list.\n"
   ]
  },
  {
   "cell_type": "code",
   "execution_count": 78,
   "metadata": {},
   "outputs": [
    {
     "name": "stdout",
     "output_type": "stream",
     "text": [
      "First item of the list: Apple\n",
      "Last item of the list: Grapes\n"
     ]
    }
   ],
   "source": [
    "\n",
    "fruits = [\"Apple\", \"Banana\", \"Orange\", \"Mango\", \"Grapes\"]\n",
    "\n",
    "# Print the first item of the list\n",
    "print(\"First item of the list:\", fruits[-5])\n",
    "\n",
    "# Print the last item of the list\n",
    "print(\"Last item of the list:\", fruits[-1])\n"
   ]
  },
  {
   "cell_type": "markdown",
   "metadata": {},
   "source": [
    "2.\tChange List Items:\n",
    "•\tCreate a list of colors.\n",
    "•\tChange the second item in the list to \"blue\".\n"
   ]
  },
  {
   "cell_type": "code",
   "execution_count": 178,
   "metadata": {},
   "outputs": [
    {
     "name": "stdout",
     "output_type": "stream",
     "text": [
      "Original list : ['Red', 'Green', 'Yellow', 'Orange']\n",
      "Modified list of colors: ['Red', 'Blue', 'Yellow', 'Orange']\n"
     ]
    }
   ],
   "source": [
    "\n",
    "colors = [\"Red\", \"Green\", \"Yellow\", \"Orange\"]\n",
    "\n",
    "# Print the original list of colors\n",
    "print(\"Original list :\", colors)\n",
    "\n",
    "# Change the second item to \"blue\"\n",
    "colors[1] = \"Blue\"\n",
    "\n",
    "# Print the modified list of colors\n",
    "print(\"Modified list of colors:\", colors)\n"
   ]
  },
  {
   "cell_type": "markdown",
   "metadata": {},
   "source": [
    "3.\tAdd List Items:\n",
    "•\tCreate a list of numbers.\n",
    "•\tAdd the number 10 at the end of the list.\n"
   ]
  },
  {
   "cell_type": "code",
   "execution_count": 179,
   "metadata": {},
   "outputs": [
    {
     "name": "stdout",
     "output_type": "stream",
     "text": [
      "Original list of numbers: [11, 2, 3, 44, 5]\n",
      "Modified list of numbers: [11, 2, 3, 44, 5, 10]\n"
     ]
    }
   ],
   "source": [
    "\n",
    "numbers = [11, 2, 3, 44, 5]\n",
    "\n",
    "# Print the original list of numbers\n",
    "print(\"Original list of numbers:\", numbers)\n",
    "\n",
    "# Add the number 10 at the end of the list\n",
    "numbers.append(10)\n",
    "\n",
    "# Print the modified list of numbers\n",
    "print(\"Modified list of numbers:\", numbers)\n"
   ]
  },
  {
   "cell_type": "markdown",
   "metadata": {},
   "source": [
    "4.\tRemove List Items:\n",
    "•\tCreate a list of animals.\n",
    "•\tRemove the third item from the list.\n"
   ]
  },
  {
   "cell_type": "code",
   "execution_count": 180,
   "metadata": {},
   "outputs": [
    {
     "name": "stdout",
     "output_type": "stream",
     "text": [
      "Original list of animals: ['Dog', 'Cat', 'Rabbit', 'Elephant', 'Lion']\n",
      "Modified list of animals: ['Dog', 'Cat', 'Elephant', 'Lion']\n"
     ]
    }
   ],
   "source": [
    "\n",
    "animals = [\"Dog\", \"Cat\", \"Rabbit\", \"Elephant\", \"Lion\"]\n",
    "\n",
    "# Print the original list of animals\n",
    "print(\"Original list of animals:\", animals)\n",
    "\n",
    "# Remove third item from list\n",
    "del animals[-3]\n",
    "\n",
    "# Print the modified list of animals\n",
    "\n",
    "print(\"Modified list of animals:\", animals)\n"
   ]
  },
  {
   "cell_type": "markdown",
   "metadata": {},
   "source": [
    "5.\tLoop Lists:\n",
    "•\tCreate a list of cities.\n",
    "•\tLoop through the list and print each city.\n"
   ]
  },
  {
   "cell_type": "code",
   "execution_count": 181,
   "metadata": {},
   "outputs": [
    {
     "name": "stdout",
     "output_type": "stream",
     "text": [
      "List of cities:\n",
      "New York\n",
      "London\n",
      "Jaddah\n",
      "Islamabad\n",
      "Sydney\n"
     ]
    }
   ],
   "source": [
    "\n",
    "cities = [\"New York\", \"London\", \"Jaddah\", \"Islamabad\", \"Sydney\"]\n",
    "\n",
    "# Loop through the list \n",
    "print(\"List of cities:\")\n",
    "for city in cities:\n",
    "    print(city)\n"
   ]
  },
  {
   "cell_type": "markdown",
   "metadata": {},
   "source": [
    "6.\tList Comprehension:\n",
    "•\tCreate a list of numbers from 1 to 10.\n",
    "•\tUse list comprehension to create a new list containing the square of each number.\n"
   ]
  },
  {
   "cell_type": "code",
   "execution_count": 182,
   "metadata": {},
   "outputs": [
    {
     "name": "stdout",
     "output_type": "stream",
     "text": [
      "Original list [11, 2, 3, 0, 5, 12, 7, 8, 9, 10]\n",
      "List of numbers squared: [121, 4, 9, 0, 25, 144, 49, 64, 81, 100]\n"
     ]
    }
   ],
   "source": [
    "\n",
    "numbers = [11, 2, 3, 0, 5, 12, 7, 8, 9, 10]\n",
    "print(\"Original list\",numbers)\n",
    "# Use list comprehension to create a new list containing the square of each number by using for loop\n",
    "squared_numbers = [num ** 2 for num in numbers]\n",
    "# Print the new list containing the square of each number\n",
    "print(\"List of numbers squared:\", squared_numbers)\n",
    "# Step 1: Create a list of numbers from 1 to 10\n",
    "numbers = [1, 2, 3, 4, 5, 6, 7, 8, 9, 10]\n",
    "\n",
    "\n"
   ]
  },
  {
   "cell_type": "markdown",
   "metadata": {},
   "source": [
    "7.\tSort Lists:\n",
    "•\tCreate a list of names.\n",
    "•\tSort the list alphabetically.\n"
   ]
  },
  {
   "cell_type": "code",
   "execution_count": 183,
   "metadata": {},
   "outputs": [
    {
     "name": "stdout",
     "output_type": "stream",
     "text": [
      "Original list of names: ['Ali', 'Usman', 'Ahmed', 'Uzair', 'MABS']\n",
      "Sorted list of names: ['Ahmed', 'Ali', 'MABS', 'Usman', 'Uzair']\n"
     ]
    }
   ],
   "source": [
    "\n",
    "names = [\"Ali\", \"Usman\", \"Ahmed\", \"Uzair\", \"MABS\"]\n",
    "\n",
    "# Sort the list alphabetically\n",
    "sorted_names = sorted(names)\n",
    "\n",
    "# Print the original list of names\n",
    "print(\"Original list of names:\", names)\n",
    "\n",
    "# Print the sorted list of names\n",
    "print(\"Sorted list of names:\", sorted_names)\n"
   ]
  },
  {
   "cell_type": "markdown",
   "metadata": {},
   "source": [
    "8.\tCopy Lists:\n",
    "•\tCreate a list of fruits.\n",
    "•\tCopy the list into a new list.\n"
   ]
  },
  {
   "cell_type": "code",
   "execution_count": 184,
   "metadata": {},
   "outputs": [
    {
     "name": "stdout",
     "output_type": "stream",
     "text": [
      "Original list of fruits: ['Apple', 'Banana', 'Orange', 'Mango', 'Grapes']\n",
      "Copied list of fruits: ['Apple', 'Banana', 'Orange', 'Mango', 'Grapes']\n"
     ]
    }
   ],
   "source": [
    "\n",
    "fruits = [\"Apple\", \"Banana\", \"Orange\", \"Mango\", \"Grapes\"]\n",
    "\n",
    "# Copy the list into a new list using slicing\n",
    "copied_fruits = fruits[0:5]\n",
    "\n",
    "# Print both lists\n",
    "print(\"Original list of fruits:\", fruits)\n",
    "print(\"Copied list of fruits:\", copied_fruits)\n"
   ]
  },
  {
   "cell_type": "markdown",
   "metadata": {},
   "source": [
    "9.\tJoin Lists:\n",
    "•\tCreate two lists of numbers.\n",
    "•\tJoin the two lists into a single list.\n"
   ]
  },
  {
   "cell_type": "code",
   "execution_count": 185,
   "metadata": {},
   "outputs": [
    {
     "name": "stdout",
     "output_type": "stream",
     "text": [
      "Joined list: [11, 2, 3, 4, 15, 6]\n"
     ]
    }
   ],
   "source": [
    "\n",
    "list1 = [11, 2, 3]\n",
    "list2 = [4, 15, 6]\n",
    "\n",
    "# Join the two lists into a single list \n",
    "list = list1 + list2\n",
    "\n",
    "# Print the joined list\n",
    "print(\"Joined list:\", list)\n"
   ]
  },
  {
   "cell_type": "markdown",
   "metadata": {},
   "source": [
    "10.\tList Methods:\n",
    "•\tCreate a list of fruits.\n",
    "•\tUse the append() method to add a new fruit to the list.\n",
    "•\tUse the pop() method to remove the last fruit from the list.\n"
   ]
  },
  {
   "cell_type": "code",
   "execution_count": 186,
   "metadata": {},
   "outputs": [
    {
     "name": "stdout",
     "output_type": "stream",
     "text": [
      "Original list of fruits: ['Apple', 'Banana', 'Orange', 'Mango']\n",
      "List of fruits after adding 'Grapes': ['Apple', 'Banana', 'Orange', 'Mango', 'Grapes']\n",
      "Removed fruit: Grapes\n",
      "List of fruits after removing the last one: ['Apple', 'Banana', 'Orange', 'Mango']\n"
     ]
    }
   ],
   "source": [
    "\n",
    "fruits = [\"Apple\", \"Banana\", \"Orange\", \"Mango\"]\n",
    "\n",
    "# Print the original list of fruits\n",
    "print(\"Original list of fruits:\", fruits)\n",
    "\n",
    "# append() method to add a new fruit to the list\n",
    "fruits.append(\"Grapes\")\n",
    "\n",
    "# Print the list after adding a new fruit\n",
    "print(\"List of fruits after adding 'Grapes':\", fruits)\n",
    "\n",
    "#  pop() method to remove the last fruit from the list\n",
    "fruit = fruits.pop()\n",
    "\n",
    "# Print the removed fruit and the updated list of fruits\n",
    "print(\"Removed fruit:\", fruit)\n",
    "print(\"List of fruits after removing the last one:\", fruits)\n"
   ]
  },
  {
   "cell_type": "markdown",
   "metadata": {},
   "source": [
    "11.\tCombining Lists and List Comprehension:\n",
    "\n",
    "•\tCreate two lists, one containing numbers from 1 to 5 and another containing numbers from 6 to 10.\n",
    "•\tUse list comprehension to create a new list that contains the sum of corresponding elements from the two lists.\n"
   ]
  },
  {
   "cell_type": "code",
   "execution_count": 200,
   "metadata": {},
   "outputs": [
    {
     "name": "stdout",
     "output_type": "stream",
     "text": [
      "List 1: [1, 2, 3, 4, 5]\n",
      "List 2: [6, 7, 8, 9, 10]\n",
      "List containing the sum of  elements: [7, 9, 11, 13, 15]\n"
     ]
    }
   ],
   "source": [
    "\n",
    "list1 = [1, 2, 3, 4, 5]\n",
    "list2 = [6, 7, 8, 9, 10]\n",
    "\n",
    "# list comprehension to create a new list containing the sum of  elements\n",
    "sum_list = [x + y for x, y in zip(list1, list2)]\n",
    "\n",
    "# Print the original lists and the new list with the sums\n",
    "print(\"List 1:\", list1)\n",
    "print(\"List 2:\", list2)\n",
    "print(\"List containing the sum of  elements:\", sum_list)\n"
   ]
  },
  {
   "cell_type": "markdown",
   "metadata": {},
   "source": [
    "12.\tFiltering and Sorting:\n",
    "Create a list of numbers.\n",
    "•\tUse list comprehension to create a new list containing only the even numbers from the original list.\n",
    "•\tSort the new list in descending order.\n"
   ]
  },
  {
   "cell_type": "code",
   "execution_count": 201,
   "metadata": {},
   "outputs": [
    {
     "name": "stdout",
     "output_type": "stream",
     "text": [
      "Original list of numbers: [23, 4, 17, 8, 12, 31, 10, 6]\n",
      "Even numbers in descending order: [12, 10, 8, 6, 4]\n"
     ]
    }
   ],
   "source": [
    "\n",
    "nums = [23, 4, 17, 8, 12, 31, 10, 6]\n",
    "\n",
    "# list comprehension to create a new list containing only the even numbers\n",
    "even_numbers = [num for num in nums if num % 2 == 0]\n",
    "\n",
    "# Sort the new list in descending order\n",
    "even_numbers.sort(reverse=True)\n",
    "\n",
    "# Print the original list \n",
    "print(\"Original list of numbers:\", nums)\n",
    "\n",
    "# Print the new list containing only even numbers sorted in descending order\n",
    "print(\"Even numbers in descending order:\", even_numbers)\n"
   ]
  },
  {
   "cell_type": "markdown",
   "metadata": {},
   "source": [
    "13.\tCombining Lists and List Methods:\n",
    "•\tCreate two lists, one containing even numbers and another containing odd numbers.\n",
    "•\tUse list methods to combine the two lists into a single list, alternating between even and odd numbers.\n"
   ]
  },
  {
   "cell_type": "code",
   "execution_count": 202,
   "metadata": {},
   "outputs": [
    {
     "name": "stdout",
     "output_type": "stream",
     "text": [
      "Combined list alternating between even and odd numbers: [2, 1, 4, 3, 6, 5, 8, 7, 10, 9]\n"
     ]
    }
   ],
   "source": [
    "\n",
    "even_numbers = [2, 4, 6, 8, 10]\n",
    "odd_numbers = [1, 3, 5, 7, 9]\n",
    "\n",
    "# Initialize an empty list to store the combined list\n",
    "combined_list = []\n",
    "\n",
    "# Use list methods to combine the two lists alternating between even and odd numbers\n",
    "for even, odd in zip(even_numbers, odd_numbers):\n",
    "    combined_list.append(even)\n",
    "    combined_list.append(odd)\n",
    "\n",
    "# Print the combined list\n",
    "print(\"Combined list alternating between even and odd numbers:\", combined_list)\n"
   ]
  },
  {
   "cell_type": "markdown",
   "metadata": {},
   "source": [
    "14.\tList Slicing and Reversing:\n",
    "•\tCreate a list of numbers from 1 to 10.\n",
    "•\tUse list slicing to create a new list containing only the even numbers from the original list, in reverse order.\n"
   ]
  },
  {
   "cell_type": "code",
   "execution_count": 203,
   "metadata": {},
   "outputs": [
    {
     "ename": "TypeError",
     "evalue": "'list' object is not callable",
     "output_type": "error",
     "traceback": [
      "\u001b[1;31m---------------------------------------------------------------------------\u001b[0m",
      "\u001b[1;31mTypeError\u001b[0m                                 Traceback (most recent call last)",
      "Cell \u001b[1;32mIn[203], line 1\u001b[0m\n\u001b[1;32m----> 1\u001b[0m numbers \u001b[38;5;241m=\u001b[39m\u001b[38;5;28;43mlist\u001b[39;49m\u001b[43m(\u001b[49m\u001b[38;5;28;43mrange\u001b[39;49m\u001b[43m(\u001b[49m\u001b[38;5;241;43m1\u001b[39;49m\u001b[43m,\u001b[49m\u001b[43m \u001b[49m\u001b[38;5;241;43m11\u001b[39;49m\u001b[43m)\u001b[49m\u001b[43m)\u001b[49m\n\u001b[0;32m      3\u001b[0m \u001b[38;5;66;03m# Use list slicing to create a new list containing only the even numbers in reverse order\u001b[39;00m\n\u001b[0;32m      4\u001b[0m even_numbers_reverse \u001b[38;5;241m=\u001b[39m numbers[::\u001b[38;5;241m-\u001b[39m\u001b[38;5;241m2\u001b[39m]\n",
      "\u001b[1;31mTypeError\u001b[0m: 'list' object is not callable"
     ]
    }
   ],
   "source": [
    "\n",
    "numbers =list(range(1, 11))\n",
    "\n",
    "# Use list slicing to create a new list containing only the even numbers in reverse order\n",
    "even_numbers_reverse = numbers[::-2]\n",
    "\n",
    "# Print the original list of numbers\n",
    "print(\"Original list of numbers:\", numbers)\n",
    "\n",
    "# Print the new list containing only even numbers in reverse order\n",
    "print(\"Even numbers in reverse order:\", even_numbers_reverse)"
   ]
  }
 ],
 "metadata": {
  "kernelspec": {
   "display_name": "Python 3",
   "language": "python",
   "name": "python3"
  },
  "language_info": {
   "codemirror_mode": {
    "name": "ipython",
    "version": 3
   },
   "file_extension": ".py",
   "mimetype": "text/x-python",
   "name": "python",
   "nbconvert_exporter": "python",
   "pygments_lexer": "ipython3",
   "version": "3.12.0"
  }
 },
 "nbformat": 4,
 "nbformat_minor": 2
}
