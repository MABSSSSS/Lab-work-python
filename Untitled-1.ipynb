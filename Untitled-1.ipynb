{
 "cells": [
  {
   "cell_type": "markdown",
   "metadata": {},
   "source": [
    "Muhammad Abdullah\n",
    "\n",
    "B22F0577AI054\n",
    "\n",
    "AI BLUE\n",
    "\n",
    "LAB TASK:7\n",
    "\n",
    "Submitted To: Mam Anila Habib"
   ]
  },
  {
   "cell_type": "markdown",
   "metadata": {},
   "source": [
    "Task:1\n",
    "\n",
    " Program to determine the quadrant of a point in a 2D plane\n",
    "\n",
    "Using of 4 if conditions:"
   ]
  },
  {
   "cell_type": "code",
   "execution_count": 1,
   "metadata": {},
   "outputs": [
    {
     "name": "stdout",
     "output_type": "stream",
     "text": [
      "The point is in the first quadrant\n"
     ]
    }
   ],
   "source": [
    "x = float(input(\"Enter the x-coordinate: \"))\n",
    "y = float(input(\"Enter the y-coordinate: \"))\n",
    "\n",
    "if x > 0 and y > 0:\n",
    "    print(\"The point is in the first quadrant\")\n",
    "if x < 0 and y > 0:\n",
    "    print(\"The point is in the second quadrant\")\n",
    "if x < 0 and y < 0:\n",
    "    print(\"The point is in the third quadrant\")\n",
    "if x > 0 and y < 0:\n",
    "    print(\"The point is in the fourth quadrant\")"
   ]
  },
  {
   "cell_type": "markdown",
   "metadata": {},
   "source": [
    "Result:\n",
    "\n",
    "In this program, we use four if conditions to determine the quadrant of a point in a 2D plane based on its x and y coordinates. Each if condition checks a specific combination of x and y values to determine the quadrant in which the point lies."
   ]
  },
  {
   "cell_type": "markdown",
   "metadata": {},
   "source": [
    "Task:2\n",
    "\n",
    "Write a program of nested if conditions \n",
    "\n",
    "Program to determine the quadrant of a point in a 2D plane using nested if conditions"
   ]
  },
  {
   "cell_type": "code",
   "execution_count": null,
   "metadata": {},
   "outputs": [],
   "source": [
    "x = float(input(\"Enter the x-coordinate: \"))\n",
    "y = float(input(\"Enter the y-coordinate: \"))\n",
    "\n",
    "if x > 0:\n",
    "    if y > 0:\n",
    "        print(\"The point is in the first quadrant\")\n",
    "    if y < 0:\n",
    "        print(\"The point is in the fourth quadrant\")\n",
    "if x < 0:\n",
    "    if y > 0:\n",
    "        print(\"The point is in the second quadrant\")\n",
    "    if y < 0:\n",
    "        print(\"The point is in the third quadrant\")"
   ]
  },
  {
   "cell_type": "markdown",
   "metadata": {},
   "source": [
    "Result:\n",
    "\n",
    "In this program, we use nested if conditions to determine the quadrant of a point in a 2D plane. The outer if conditions check the sign of the x-coordinate, and the inner if conditions check the sign of the y-coordinate to determine the quadrant."
   ]
  },
  {
   "cell_type": "markdown",
   "metadata": {},
   "source": [
    "Task:3\n",
    "\n",
    "Program that determines the quadrant of a point based on its x and y coordinates using if-else statements:\n"
   ]
  },
  {
   "cell_type": "code",
   "execution_count": null,
   "metadata": {},
   "outputs": [],
   "source": [
    "\n",
    "\n",
    "x = float(input(\"Enter the x-coordinate of the point: \"))\n",
    "y = float(input(\"Enter the y-coordinate of the point: \"))\n",
    "\n",
    "if x > 0:\n",
    "    if y > 0:\n",
    "        print(\"The point is in the first quadrant\")\n",
    "    else:\n",
    "        print(\"The point is in the fourth quadrant\")\n",
    "else:\n",
    "    if y > 0:\n",
    "        print(\"The point is in the second quadrant\")\n",
    "    else:\n",
    "        print(\"The point is in the third quadrant\")"
   ]
  },
  {
   "cell_type": "markdown",
   "metadata": {},
   "source": [
    "Result:\n",
    "\n",
    "In this program, the user inputs the x and y coordinates of a point. The program then uses nested if-else statements to determine the quadrant in which the point lies based on the signs of its x and y coordinates. The output indicates the quadrant in which the point is located."
   ]
  },
  {
   "cell_type": "markdown",
   "metadata": {},
   "source": [
    "Task:4\n",
    "\n",
    " Python program that uses nested if-else statements to determine the quadrant in which a point lies based on its x and y coordinates:"
   ]
  },
  {
   "cell_type": "code",
   "execution_count": null,
   "metadata": {},
   "outputs": [],
   "source": [
    "# Input x and y coordinates\n",
    "x = float(input(\"Enter the x-coordinate: \"))\n",
    "y = float(input(\"Enter the y-coordinate: \"))\n",
    "\n",
    "# Nested if-else statements to determine the quadrant\n",
    "if x > 0:\n",
    "    if y > 0:\n",
    "        print(\"The point is in the first quadrant\")\n",
    "    else:\n",
    "        print(\"The point is in the fourth quadrant\")\n",
    "else:\n",
    "    if y > 0:\n",
    "        print(\"The point is in the second quadrant\")\n",
    "    else:\n",
    "        print(\"The point is in the third quadrant\")"
   ]
  },
  {
   "cell_type": "markdown",
   "metadata": {},
   "source": [
    "Result:\n",
    "\n",
    "We first input the x and y coordinates of a point.\n",
    "The program then uses nested if-else statements to check the signs of x and y to determine the quadrant in which the point lies.\n",
    "Depending on the conditions, it will output the quadrant in which the point is located."
   ]
  }
 ],
 "metadata": {
  "kernelspec": {
   "display_name": "Python 3",
   "language": "python",
   "name": "python3"
  },
  "language_info": {
   "codemirror_mode": {
    "name": "ipython",
    "version": 3
   },
   "file_extension": ".py",
   "mimetype": "text/x-python",
   "name": "python",
   "nbconvert_exporter": "python",
   "pygments_lexer": "ipython3",
   "version": "3.12.0"
  }
 },
 "nbformat": 4,
 "nbformat_minor": 2
}
